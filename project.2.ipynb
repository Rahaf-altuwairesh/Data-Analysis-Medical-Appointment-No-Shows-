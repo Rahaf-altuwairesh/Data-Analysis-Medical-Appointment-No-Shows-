{
 "cells": [
  {
   "cell_type": "code",
   "execution_count": 1,
   "id": "b85a4d0f",
   "metadata": {},
   "outputs": [],
   "source": [
    "import numpy as np \n",
    "import pandas as pd \n",
    "import matplotlib.pyplot as plt  \n",
    "import seaborn as sns \n",
    "sns.set_palette('Set2')"
   ]
  },
  {
   "cell_type": "markdown",
   "id": "54c17d02",
   "metadata": {},
   "source": [
    "# Project: (Medical Appointment No-Shows) Data Analysis \n",
    "\n",
    "## Table of Contents\n",
    "<ul>\n",
    "<li><a href=\"#intro\">Introduction</a></li>\n",
    "<li><a href=\"#wrangling\">Data Wrangling</a></li>\n",
    "<li><a href=\"#eda\">Exploratory Data Analysis</a></li>\n",
    "<li><a href=\"#conclusions\">Conclusions</a></li>\n",
    "</ul>"
   ]
  },
  {
   "cell_type": "markdown",
   "id": "7244a0fa",
   "metadata": {},
   "source": [
    "<a id='intro'></a>\n",
    "## Introduction\n",
    "\n",
    "In this project, we will be analyzing (Medical Appointment No Shows) dataset.\n",
    "This dataset collects information from 100,000 medical appointments in Brazil and focuses on the question Whether or not patients attend their appointments. There are a number of characteristics about the patientincluded in each row.\n",
    "\n",
    "## Data Dictionary\n",
    "\n",
    "1. PatientId: Identification of a patient\n",
    "2. AppointmentID: Identification of each appointment\n",
    "3. Gender: Male or Female . \n",
    "4. DataMarcacaoConsulta: The day of the actuall appointment, when they have to visit the doctor.\n",
    "5. DataAgendamento: The day someone called or registered the appointment, this is before appointment of course.\n",
    "6. Age: How old is the patient.\n",
    "7. Neighbourhood: Where the appointment takes place.\n",
    "8. Scholarship:True of False \n",
    "9. Hipertension: True or False\n",
    "10. Diabetes: True or False\n",
    "11. Alcoholism: True or False\n",
    "12. Handcap: True or False\n",
    "13. SMS_received: 1 or more messages sent to the patient.\n",
    "14. No-show: True or False.\n",
    "\n",
    "\n",
    "\n",
    "### The questions That we plan on exploring:\n",
    "\n",
    "- Q1-What is the total number of attendance and non-attendance Patients? and what is the percentage of each group?\n",
    "- Q2-What is the highest age group for patients?and what is the highest age group for non-attendance?\n",
    "- Q3-What is the total number of each gender? And what is the percentage of the number?\n",
    "- Q4-Does Gender affect show up?\n",
    "- Q5-What is the total number for patients who have received SMS and patients who not received SMS?\n",
    "- Q6-what is the percentage of the patients who have received SMS and have showed up?\n",
    "- Q7-How many patients have a scholarship?\n",
    "- Q8-Are patients on scholarship more committed to their appointments?\n",
    "- Q9-Are patients who have a scholarship and receive SMS more punctual?\n",
    "- Q10-Does having physical Diseases such as Hipertension, Diabetes effect on showing up for appointment?\n",
    "\n",
    "\n"
   ]
  },
  {
   "cell_type": "markdown",
   "id": "e9984301",
   "metadata": {},
   "source": [
    "<a id='wrangling'></a>\n",
    "## Data Wrangling"
   ]
  },
  {
   "cell_type": "code",
   "execution_count": 2,
   "id": "8d8773af",
   "metadata": {},
   "outputs": [],
   "source": [
    "df=pd.read_csv('noshowappointments-kagglev2-may-2016.csv')"
   ]
  },
  {
   "cell_type": "code",
   "execution_count": 3,
   "id": "d91eff7c",
   "metadata": {},
   "outputs": [
    {
     "data": {
      "text/html": [
       "<div>\n",
       "<style scoped>\n",
       "    .dataframe tbody tr th:only-of-type {\n",
       "        vertical-align: middle;\n",
       "    }\n",
       "\n",
       "    .dataframe tbody tr th {\n",
       "        vertical-align: top;\n",
       "    }\n",
       "\n",
       "    .dataframe thead th {\n",
       "        text-align: right;\n",
       "    }\n",
       "</style>\n",
       "<table border=\"1\" class=\"dataframe\">\n",
       "  <thead>\n",
       "    <tr style=\"text-align: right;\">\n",
       "      <th></th>\n",
       "      <th>PatientId</th>\n",
       "      <th>AppointmentID</th>\n",
       "      <th>Gender</th>\n",
       "      <th>ScheduledDay</th>\n",
       "      <th>AppointmentDay</th>\n",
       "      <th>Age</th>\n",
       "      <th>Neighbourhood</th>\n",
       "      <th>Scholarship</th>\n",
       "      <th>Hipertension</th>\n",
       "      <th>Diabetes</th>\n",
       "      <th>Alcoholism</th>\n",
       "      <th>Handcap</th>\n",
       "      <th>SMS_received</th>\n",
       "      <th>No-show</th>\n",
       "    </tr>\n",
       "  </thead>\n",
       "  <tbody>\n",
       "    <tr>\n",
       "      <th>0</th>\n",
       "      <td>2.987250e+13</td>\n",
       "      <td>5642903</td>\n",
       "      <td>F</td>\n",
       "      <td>2016-04-29T18:38:08Z</td>\n",
       "      <td>2016-04-29T00:00:00Z</td>\n",
       "      <td>62</td>\n",
       "      <td>JARDIM DA PENHA</td>\n",
       "      <td>0</td>\n",
       "      <td>1</td>\n",
       "      <td>0</td>\n",
       "      <td>0</td>\n",
       "      <td>0</td>\n",
       "      <td>0</td>\n",
       "      <td>No</td>\n",
       "    </tr>\n",
       "    <tr>\n",
       "      <th>1</th>\n",
       "      <td>5.589978e+14</td>\n",
       "      <td>5642503</td>\n",
       "      <td>M</td>\n",
       "      <td>2016-04-29T16:08:27Z</td>\n",
       "      <td>2016-04-29T00:00:00Z</td>\n",
       "      <td>56</td>\n",
       "      <td>JARDIM DA PENHA</td>\n",
       "      <td>0</td>\n",
       "      <td>0</td>\n",
       "      <td>0</td>\n",
       "      <td>0</td>\n",
       "      <td>0</td>\n",
       "      <td>0</td>\n",
       "      <td>No</td>\n",
       "    </tr>\n",
       "    <tr>\n",
       "      <th>2</th>\n",
       "      <td>4.262962e+12</td>\n",
       "      <td>5642549</td>\n",
       "      <td>F</td>\n",
       "      <td>2016-04-29T16:19:04Z</td>\n",
       "      <td>2016-04-29T00:00:00Z</td>\n",
       "      <td>62</td>\n",
       "      <td>MATA DA PRAIA</td>\n",
       "      <td>0</td>\n",
       "      <td>0</td>\n",
       "      <td>0</td>\n",
       "      <td>0</td>\n",
       "      <td>0</td>\n",
       "      <td>0</td>\n",
       "      <td>No</td>\n",
       "    </tr>\n",
       "    <tr>\n",
       "      <th>3</th>\n",
       "      <td>8.679512e+11</td>\n",
       "      <td>5642828</td>\n",
       "      <td>F</td>\n",
       "      <td>2016-04-29T17:29:31Z</td>\n",
       "      <td>2016-04-29T00:00:00Z</td>\n",
       "      <td>8</td>\n",
       "      <td>PONTAL DE CAMBURI</td>\n",
       "      <td>0</td>\n",
       "      <td>0</td>\n",
       "      <td>0</td>\n",
       "      <td>0</td>\n",
       "      <td>0</td>\n",
       "      <td>0</td>\n",
       "      <td>No</td>\n",
       "    </tr>\n",
       "    <tr>\n",
       "      <th>4</th>\n",
       "      <td>8.841186e+12</td>\n",
       "      <td>5642494</td>\n",
       "      <td>F</td>\n",
       "      <td>2016-04-29T16:07:23Z</td>\n",
       "      <td>2016-04-29T00:00:00Z</td>\n",
       "      <td>56</td>\n",
       "      <td>JARDIM DA PENHA</td>\n",
       "      <td>0</td>\n",
       "      <td>1</td>\n",
       "      <td>1</td>\n",
       "      <td>0</td>\n",
       "      <td>0</td>\n",
       "      <td>0</td>\n",
       "      <td>No</td>\n",
       "    </tr>\n",
       "  </tbody>\n",
       "</table>\n",
       "</div>"
      ],
      "text/plain": [
       "      PatientId  AppointmentID Gender          ScheduledDay  \\\n",
       "0  2.987250e+13        5642903      F  2016-04-29T18:38:08Z   \n",
       "1  5.589978e+14        5642503      M  2016-04-29T16:08:27Z   \n",
       "2  4.262962e+12        5642549      F  2016-04-29T16:19:04Z   \n",
       "3  8.679512e+11        5642828      F  2016-04-29T17:29:31Z   \n",
       "4  8.841186e+12        5642494      F  2016-04-29T16:07:23Z   \n",
       "\n",
       "         AppointmentDay  Age      Neighbourhood  Scholarship  Hipertension  \\\n",
       "0  2016-04-29T00:00:00Z   62    JARDIM DA PENHA            0             1   \n",
       "1  2016-04-29T00:00:00Z   56    JARDIM DA PENHA            0             0   \n",
       "2  2016-04-29T00:00:00Z   62      MATA DA PRAIA            0             0   \n",
       "3  2016-04-29T00:00:00Z    8  PONTAL DE CAMBURI            0             0   \n",
       "4  2016-04-29T00:00:00Z   56    JARDIM DA PENHA            0             1   \n",
       "\n",
       "   Diabetes  Alcoholism  Handcap  SMS_received No-show  \n",
       "0         0           0        0             0      No  \n",
       "1         0           0        0             0      No  \n",
       "2         0           0        0             0      No  \n",
       "3         0           0        0             0      No  \n",
       "4         1           0        0             0      No  "
      ]
     },
     "execution_count": 3,
     "metadata": {},
     "output_type": "execute_result"
    }
   ],
   "source": [
    "df.head()"
   ]
  },
  {
   "cell_type": "code",
   "execution_count": 4,
   "id": "32955dd4",
   "metadata": {},
   "outputs": [
    {
     "name": "stdout",
     "output_type": "stream",
     "text": [
      "<class 'pandas.core.frame.DataFrame'>\n",
      "RangeIndex: 110527 entries, 0 to 110526\n",
      "Data columns (total 14 columns):\n",
      " #   Column          Non-Null Count   Dtype  \n",
      "---  ------          --------------   -----  \n",
      " 0   PatientId       110527 non-null  float64\n",
      " 1   AppointmentID   110527 non-null  int64  \n",
      " 2   Gender          110527 non-null  object \n",
      " 3   ScheduledDay    110527 non-null  object \n",
      " 4   AppointmentDay  110527 non-null  object \n",
      " 5   Age             110527 non-null  int64  \n",
      " 6   Neighbourhood   110527 non-null  object \n",
      " 7   Scholarship     110527 non-null  int64  \n",
      " 8   Hipertension    110527 non-null  int64  \n",
      " 9   Diabetes        110527 non-null  int64  \n",
      " 10  Alcoholism      110527 non-null  int64  \n",
      " 11  Handcap         110527 non-null  int64  \n",
      " 12  SMS_received    110527 non-null  int64  \n",
      " 13  No-show         110527 non-null  object \n",
      "dtypes: float64(1), int64(8), object(5)\n",
      "memory usage: 11.8+ MB\n"
     ]
    }
   ],
   "source": [
    "df.info()"
   ]
  },
  {
   "cell_type": "markdown",
   "id": "e8f5c2aa",
   "metadata": {},
   "source": [
    "The datasets have 110527 rows and 14 columns."
   ]
  },
  {
   "cell_type": "markdown",
   "id": "a7a05df8",
   "metadata": {},
   "source": [
    "### Data Cleaning"
   ]
  },
  {
   "cell_type": "code",
   "execution_count": 5,
   "id": "30e1e2d5",
   "metadata": {},
   "outputs": [
    {
     "data": {
      "text/plain": [
       "PatientId         0\n",
       "AppointmentID     0\n",
       "Gender            0\n",
       "ScheduledDay      0\n",
       "AppointmentDay    0\n",
       "Age               0\n",
       "Neighbourhood     0\n",
       "Scholarship       0\n",
       "Hipertension      0\n",
       "Diabetes          0\n",
       "Alcoholism        0\n",
       "Handcap           0\n",
       "SMS_received      0\n",
       "No-show           0\n",
       "dtype: int64"
      ]
     },
     "execution_count": 5,
     "metadata": {},
     "output_type": "execute_result"
    }
   ],
   "source": [
    "df.isnull().sum()"
   ]
  },
  {
   "cell_type": "code",
   "execution_count": 6,
   "id": "804d117b",
   "metadata": {},
   "outputs": [
    {
     "data": {
      "text/plain": [
       "0"
      ]
     },
     "execution_count": 6,
     "metadata": {},
     "output_type": "execute_result"
    }
   ],
   "source": [
    "df.duplicated().sum()"
   ]
  },
  {
   "cell_type": "markdown",
   "id": "09b7e099",
   "metadata": {},
   "source": [
    "**Excellent No missing data or duplicated ones.**"
   ]
  },
  {
   "cell_type": "code",
   "execution_count": 7,
   "id": "b28652be",
   "metadata": {},
   "outputs": [],
   "source": [
    "#Delete the columns we don't use\n",
    "df.drop(['ScheduledDay','AppointmentDay','Neighbourhood','Alcoholism','Handcap','PatientId','AppointmentID'],axis=1,inplace=True)"
   ]
  },
  {
   "cell_type": "code",
   "execution_count": 8,
   "id": "38c3aa4c",
   "metadata": {},
   "outputs": [],
   "source": [
    "#Rename some columns\n",
    "df.rename(columns = {\"No-show\": \"Show\",\"SMS_received\":\"SMS_sent\"}, inplace = True)"
   ]
  },
  {
   "cell_type": "code",
   "execution_count": 9,
   "id": "1fc27e0b",
   "metadata": {},
   "outputs": [],
   "source": [
    "#Convert qualitative data into quantitative data to make analyzes more efficient\n",
    "df.loc[df['Show'] == 'Yes', ['Show']] = 0\n",
    "df.loc[df['Show'] == 'No', ['Show']] = 1\n",
    "#Convert data type\n",
    "df['Show']=df['Show'].astype(int)"
   ]
  },
  {
   "cell_type": "code",
   "execution_count": 10,
   "id": "d4dd55c0",
   "metadata": {},
   "outputs": [
    {
     "data": {
      "text/html": [
       "<div>\n",
       "<style scoped>\n",
       "    .dataframe tbody tr th:only-of-type {\n",
       "        vertical-align: middle;\n",
       "    }\n",
       "\n",
       "    .dataframe tbody tr th {\n",
       "        vertical-align: top;\n",
       "    }\n",
       "\n",
       "    .dataframe thead th {\n",
       "        text-align: right;\n",
       "    }\n",
       "</style>\n",
       "<table border=\"1\" class=\"dataframe\">\n",
       "  <thead>\n",
       "    <tr style=\"text-align: right;\">\n",
       "      <th></th>\n",
       "      <th>Age</th>\n",
       "      <th>Scholarship</th>\n",
       "      <th>Hipertension</th>\n",
       "      <th>Diabetes</th>\n",
       "      <th>SMS_sent</th>\n",
       "      <th>Show</th>\n",
       "    </tr>\n",
       "  </thead>\n",
       "  <tbody>\n",
       "    <tr>\n",
       "      <th>count</th>\n",
       "      <td>110527.000000</td>\n",
       "      <td>110527.000000</td>\n",
       "      <td>110527.000000</td>\n",
       "      <td>110527.000000</td>\n",
       "      <td>110527.000000</td>\n",
       "      <td>110527.000000</td>\n",
       "    </tr>\n",
       "    <tr>\n",
       "      <th>mean</th>\n",
       "      <td>37.088874</td>\n",
       "      <td>0.098266</td>\n",
       "      <td>0.197246</td>\n",
       "      <td>0.071865</td>\n",
       "      <td>0.321026</td>\n",
       "      <td>0.798067</td>\n",
       "    </tr>\n",
       "    <tr>\n",
       "      <th>std</th>\n",
       "      <td>23.110205</td>\n",
       "      <td>0.297675</td>\n",
       "      <td>0.397921</td>\n",
       "      <td>0.258265</td>\n",
       "      <td>0.466873</td>\n",
       "      <td>0.401444</td>\n",
       "    </tr>\n",
       "    <tr>\n",
       "      <th>min</th>\n",
       "      <td>-1.000000</td>\n",
       "      <td>0.000000</td>\n",
       "      <td>0.000000</td>\n",
       "      <td>0.000000</td>\n",
       "      <td>0.000000</td>\n",
       "      <td>0.000000</td>\n",
       "    </tr>\n",
       "    <tr>\n",
       "      <th>25%</th>\n",
       "      <td>18.000000</td>\n",
       "      <td>0.000000</td>\n",
       "      <td>0.000000</td>\n",
       "      <td>0.000000</td>\n",
       "      <td>0.000000</td>\n",
       "      <td>1.000000</td>\n",
       "    </tr>\n",
       "    <tr>\n",
       "      <th>50%</th>\n",
       "      <td>37.000000</td>\n",
       "      <td>0.000000</td>\n",
       "      <td>0.000000</td>\n",
       "      <td>0.000000</td>\n",
       "      <td>0.000000</td>\n",
       "      <td>1.000000</td>\n",
       "    </tr>\n",
       "    <tr>\n",
       "      <th>75%</th>\n",
       "      <td>55.000000</td>\n",
       "      <td>0.000000</td>\n",
       "      <td>0.000000</td>\n",
       "      <td>0.000000</td>\n",
       "      <td>1.000000</td>\n",
       "      <td>1.000000</td>\n",
       "    </tr>\n",
       "    <tr>\n",
       "      <th>max</th>\n",
       "      <td>115.000000</td>\n",
       "      <td>1.000000</td>\n",
       "      <td>1.000000</td>\n",
       "      <td>1.000000</td>\n",
       "      <td>1.000000</td>\n",
       "      <td>1.000000</td>\n",
       "    </tr>\n",
       "  </tbody>\n",
       "</table>\n",
       "</div>"
      ],
      "text/plain": [
       "                 Age    Scholarship   Hipertension       Diabetes  \\\n",
       "count  110527.000000  110527.000000  110527.000000  110527.000000   \n",
       "mean       37.088874       0.098266       0.197246       0.071865   \n",
       "std        23.110205       0.297675       0.397921       0.258265   \n",
       "min        -1.000000       0.000000       0.000000       0.000000   \n",
       "25%        18.000000       0.000000       0.000000       0.000000   \n",
       "50%        37.000000       0.000000       0.000000       0.000000   \n",
       "75%        55.000000       0.000000       0.000000       0.000000   \n",
       "max       115.000000       1.000000       1.000000       1.000000   \n",
       "\n",
       "            SMS_sent           Show  \n",
       "count  110527.000000  110527.000000  \n",
       "mean        0.321026       0.798067  \n",
       "std         0.466873       0.401444  \n",
       "min         0.000000       0.000000  \n",
       "25%         0.000000       1.000000  \n",
       "50%         0.000000       1.000000  \n",
       "75%         1.000000       1.000000  \n",
       "max         1.000000       1.000000  "
      ]
     },
     "execution_count": 10,
     "metadata": {},
     "output_type": "execute_result"
    }
   ],
   "source": [
    "df.describe()"
   ]
  },
  {
   "cell_type": "markdown",
   "id": "20e12732",
   "metadata": {},
   "source": [
    "From this statistical description we note:\n",
    "1. the mean ratio for **Show** -show up- is 79% This is a high rate.\n",
    "2. the **Age** The highest value is 115 and the lowest is -1, age cannot be negative (this value must be deleted).\n",
    "3. the Average-mean- patients with **Hipertension** is 19%.\n",
    "4. the Average-mean- patients who has been **SMS_sent** is 32%."
   ]
  },
  {
   "cell_type": "code",
   "execution_count": 11,
   "id": "9ab00954",
   "metadata": {},
   "outputs": [
    {
     "data": {
      "text/html": [
       "<div>\n",
       "<style scoped>\n",
       "    .dataframe tbody tr th:only-of-type {\n",
       "        vertical-align: middle;\n",
       "    }\n",
       "\n",
       "    .dataframe tbody tr th {\n",
       "        vertical-align: top;\n",
       "    }\n",
       "\n",
       "    .dataframe thead th {\n",
       "        text-align: right;\n",
       "    }\n",
       "</style>\n",
       "<table border=\"1\" class=\"dataframe\">\n",
       "  <thead>\n",
       "    <tr style=\"text-align: right;\">\n",
       "      <th></th>\n",
       "      <th>Gender</th>\n",
       "      <th>Age</th>\n",
       "      <th>Scholarship</th>\n",
       "      <th>Hipertension</th>\n",
       "      <th>Diabetes</th>\n",
       "      <th>SMS_sent</th>\n",
       "      <th>Show</th>\n",
       "    </tr>\n",
       "  </thead>\n",
       "  <tbody>\n",
       "    <tr>\n",
       "      <th>99832</th>\n",
       "      <td>F</td>\n",
       "      <td>-1</td>\n",
       "      <td>0</td>\n",
       "      <td>0</td>\n",
       "      <td>0</td>\n",
       "      <td>0</td>\n",
       "      <td>1</td>\n",
       "    </tr>\n",
       "  </tbody>\n",
       "</table>\n",
       "</div>"
      ],
      "text/plain": [
       "      Gender  Age  Scholarship  Hipertension  Diabetes  SMS_sent  Show\n",
       "99832      F   -1            0             0         0         0     1"
      ]
     },
     "execution_count": 11,
     "metadata": {},
     "output_type": "execute_result"
    }
   ],
   "source": [
    "#We noticed that there is only one row\n",
    "df[df['Age']==-1]"
   ]
  },
  {
   "cell_type": "code",
   "execution_count": 12,
   "id": "41a04430",
   "metadata": {},
   "outputs": [],
   "source": [
    "#Delete the negative value\n",
    "df.drop(index=99832,inplace=True)"
   ]
  },
  {
   "cell_type": "code",
   "execution_count": 13,
   "id": "54ad1b0a",
   "metadata": {},
   "outputs": [
    {
     "data": {
      "text/html": [
       "<div>\n",
       "<style scoped>\n",
       "    .dataframe tbody tr th:only-of-type {\n",
       "        vertical-align: middle;\n",
       "    }\n",
       "\n",
       "    .dataframe tbody tr th {\n",
       "        vertical-align: top;\n",
       "    }\n",
       "\n",
       "    .dataframe thead th {\n",
       "        text-align: right;\n",
       "    }\n",
       "</style>\n",
       "<table border=\"1\" class=\"dataframe\">\n",
       "  <thead>\n",
       "    <tr style=\"text-align: right;\">\n",
       "      <th></th>\n",
       "      <th>Gender</th>\n",
       "      <th>Age</th>\n",
       "      <th>Scholarship</th>\n",
       "      <th>Hipertension</th>\n",
       "      <th>Diabetes</th>\n",
       "      <th>SMS_sent</th>\n",
       "      <th>Show</th>\n",
       "    </tr>\n",
       "  </thead>\n",
       "  <tbody>\n",
       "  </tbody>\n",
       "</table>\n",
       "</div>"
      ],
      "text/plain": [
       "Empty DataFrame\n",
       "Columns: [Gender, Age, Scholarship, Hipertension, Diabetes, SMS_sent, Show]\n",
       "Index: []"
      ]
     },
     "execution_count": 13,
     "metadata": {},
     "output_type": "execute_result"
    }
   ],
   "source": [
    "#To check to delete the value\n",
    "df[df['Age']==-1]"
   ]
  },
  {
   "cell_type": "markdown",
   "id": "ff984cd9",
   "metadata": {},
   "source": [
    "Age classification with cut() function to make **Age** more efficient and accurate for visualization and exploration"
   ]
  },
  {
   "cell_type": "code",
   "execution_count": 14,
   "id": "0bf552d9",
   "metadata": {},
   "outputs": [],
   "source": [
    "bins=[0,12,18,35,52,69,115]\n",
    "df['age_class']=pd.cut(df['Age'],bins)"
   ]
  },
  {
   "cell_type": "code",
   "execution_count": 15,
   "id": "015e42d9",
   "metadata": {},
   "outputs": [
    {
     "data": {
      "text/html": [
       "<div>\n",
       "<style scoped>\n",
       "    .dataframe tbody tr th:only-of-type {\n",
       "        vertical-align: middle;\n",
       "    }\n",
       "\n",
       "    .dataframe tbody tr th {\n",
       "        vertical-align: top;\n",
       "    }\n",
       "\n",
       "    .dataframe thead th {\n",
       "        text-align: right;\n",
       "    }\n",
       "</style>\n",
       "<table border=\"1\" class=\"dataframe\">\n",
       "  <thead>\n",
       "    <tr style=\"text-align: right;\">\n",
       "      <th></th>\n",
       "      <th>Gender</th>\n",
       "      <th>Age</th>\n",
       "      <th>Scholarship</th>\n",
       "      <th>Hipertension</th>\n",
       "      <th>Diabetes</th>\n",
       "      <th>SMS_sent</th>\n",
       "      <th>Show</th>\n",
       "      <th>age_class</th>\n",
       "    </tr>\n",
       "  </thead>\n",
       "  <tbody>\n",
       "    <tr>\n",
       "      <th>0</th>\n",
       "      <td>F</td>\n",
       "      <td>62</td>\n",
       "      <td>0</td>\n",
       "      <td>1</td>\n",
       "      <td>0</td>\n",
       "      <td>0</td>\n",
       "      <td>1</td>\n",
       "      <td>(52, 69]</td>\n",
       "    </tr>\n",
       "    <tr>\n",
       "      <th>1</th>\n",
       "      <td>M</td>\n",
       "      <td>56</td>\n",
       "      <td>0</td>\n",
       "      <td>0</td>\n",
       "      <td>0</td>\n",
       "      <td>0</td>\n",
       "      <td>1</td>\n",
       "      <td>(52, 69]</td>\n",
       "    </tr>\n",
       "    <tr>\n",
       "      <th>2</th>\n",
       "      <td>F</td>\n",
       "      <td>62</td>\n",
       "      <td>0</td>\n",
       "      <td>0</td>\n",
       "      <td>0</td>\n",
       "      <td>0</td>\n",
       "      <td>1</td>\n",
       "      <td>(52, 69]</td>\n",
       "    </tr>\n",
       "    <tr>\n",
       "      <th>3</th>\n",
       "      <td>F</td>\n",
       "      <td>8</td>\n",
       "      <td>0</td>\n",
       "      <td>0</td>\n",
       "      <td>0</td>\n",
       "      <td>0</td>\n",
       "      <td>1</td>\n",
       "      <td>(0, 12]</td>\n",
       "    </tr>\n",
       "    <tr>\n",
       "      <th>4</th>\n",
       "      <td>F</td>\n",
       "      <td>56</td>\n",
       "      <td>0</td>\n",
       "      <td>1</td>\n",
       "      <td>1</td>\n",
       "      <td>0</td>\n",
       "      <td>1</td>\n",
       "      <td>(52, 69]</td>\n",
       "    </tr>\n",
       "  </tbody>\n",
       "</table>\n",
       "</div>"
      ],
      "text/plain": [
       "  Gender  Age  Scholarship  Hipertension  Diabetes  SMS_sent  Show age_class\n",
       "0      F   62            0             1         0         0     1  (52, 69]\n",
       "1      M   56            0             0         0         0     1  (52, 69]\n",
       "2      F   62            0             0         0         0     1  (52, 69]\n",
       "3      F    8            0             0         0         0     1   (0, 12]\n",
       "4      F   56            0             1         1         0     1  (52, 69]"
      ]
     },
     "execution_count": 15,
     "metadata": {},
     "output_type": "execute_result"
    }
   ],
   "source": [
    "df.head()"
   ]
  },
  {
   "cell_type": "code",
   "execution_count": 16,
   "id": "e2efc021",
   "metadata": {},
   "outputs": [
    {
     "data": {
      "image/png": "[encoded data removed]",
      "text/plain": [
       "<Figure size 1440x720 with 6 Axes>"
      ]
     },
     "metadata": {
      "needs_background": "light"
     },
     "output_type": "display_data"
    }
   ],
   "source": [
    "df.hist(figsize=(20,10));"
   ]
  },
  {
   "cell_type": "markdown",
   "id": "39e8f93c",
   "metadata": {},
   "source": [
    "The **Age** right skewed distribution, the mean is typically greater than the median."
   ]
  },
  {
   "cell_type": "markdown",
   "id": "d878b7b0",
   "metadata": {},
   "source": [
    "### Q1-What is the total number of attendance and non-attendance Patients? and what is the percentage of each group?"
   ]
  },
  {
   "cell_type": "code",
   "execution_count": 17,
   "id": "be020e58",
   "metadata": {},
   "outputs": [
    {
     "data": {
      "text/plain": [
       "(88207, 22319)"
      ]
     },
     "execution_count": 17,
     "metadata": {},
     "output_type": "execute_result"
    }
   ],
   "source": [
    "did_not_show=df.query('Show==0').Show.count()\n",
    "show=df.query('Show==1').Show.count()\n",
    "show,did_not_show"
   ]
  },
  {
   "cell_type": "code",
   "execution_count": 18,
   "id": "555baa40",
   "metadata": {},
   "outputs": [
    {
     "data": {
      "text/plain": [
       "(79.81, 20.19)"
      ]
     },
     "execution_count": 18,
     "metadata": {},
     "output_type": "execute_result"
    }
   ],
   "source": [
    "rate_show=round((show/df.shape[0]) * 100,2)\n",
    "rate_did_not_show=round((did_not_show/df.shape[0])* 100,2)\n",
    "(rate_show,rate_did_not_show)"
   ]
  },
  {
   "cell_type": "markdown",
   "id": "897742bc",
   "metadata": {},
   "source": [
    " attend | count | percentage\n",
    "-------|-------|-----------\n",
    "Didn't attend|  22319| 20.19\n",
    "attend|  88207 | 79.81\n",
    "\n",
    "\n",
    "\n",
    "We note that 79.8% of patients attended their appointments versus 20.2% who did not.\n",
    "\n"
   ]
  },
  {
   "cell_type": "code",
   "execution_count": 19,
   "id": "c27afbc0",
   "metadata": {},
   "outputs": [
    {
     "data": {
      "image/png": "[encoded data removed]",
      "text/plain": [
       "<Figure size 432x288 with 1 Axes>"
      ]
     },
     "metadata": {
      "needs_background": "light"
     },
     "output_type": "display_data"
    }
   ],
   "source": [
    "#visualization for Attended vs Didn't attend\n",
    "locations = np.arange(len(df.Show.value_counts()))\n",
    "heights = [did_not_show, show]\n",
    "labels = ['Didn\\'t attend','Attended']\n",
    "bars=plt.bar(locations, heights, tick_label=labels)\n",
    "bars[0].set_hatch('/')\n",
    "bars[1].set_hatch('x')\n",
    "plt.ylabel('Count',fontsize=13)\n",
    "plt.title('Attended vs Didn\\'t attend',fontsize=14);"
   ]
  },
  {
   "cell_type": "markdown",
   "id": "a1805548",
   "metadata": {},
   "source": [
    "We note that 88207 of patients attended their appointments versus 22319 who did not."
   ]
  },
  {
   "cell_type": "markdown",
   "id": "ab10e7e1",
   "metadata": {},
   "source": [
    "### Q2-What is the highest age group for patients?and what is the highest age group for non-attendance?"
   ]
  },
  {
   "cell_type": "code",
   "execution_count": 20,
   "id": "4ec27334",
   "metadata": {},
   "outputs": [
    {
     "data": {
      "text/plain": [
       "(35, 52]     25413\n",
       "(18, 35]     24137\n",
       "(52, 69]     22813\n",
       "(0, 12]      17497\n",
       "(69, 115]     9297\n",
       "(12, 18]      7830\n",
       "Name: age_class, dtype: int64"
      ]
     },
     "execution_count": 20,
     "metadata": {},
     "output_type": "execute_result"
    }
   ],
   "source": [
    "df['age_class'].value_counts()"
   ]
  },
  {
   "cell_type": "markdown",
   "id": "b6306fff",
   "metadata": {},
   "source": [
    "We note that The largest number of patients is in the age group between 35 and 52 years, and the least number of patients is in the age group between 12 to 18 years."
   ]
  },
  {
   "cell_type": "code",
   "execution_count": 21,
   "id": "f746f5b0",
   "metadata": {},
   "outputs": [
    {
     "data": {
      "text/html": [
       "<div>\n",
       "<style scoped>\n",
       "    .dataframe tbody tr th:only-of-type {\n",
       "        vertical-align: middle;\n",
       "    }\n",
       "\n",
       "    .dataframe tbody tr th {\n",
       "        vertical-align: top;\n",
       "    }\n",
       "\n",
       "    .dataframe thead th {\n",
       "        text-align: right;\n",
       "    }\n",
       "</style>\n",
       "<table border=\"1\" class=\"dataframe\">\n",
       "  <thead>\n",
       "    <tr style=\"text-align: right;\">\n",
       "      <th></th>\n",
       "      <th>Show</th>\n",
       "    </tr>\n",
       "    <tr>\n",
       "      <th>age_class</th>\n",
       "      <th></th>\n",
       "    </tr>\n",
       "  </thead>\n",
       "  <tbody>\n",
       "    <tr>\n",
       "      <th>(0, 12]</th>\n",
       "      <td>79.04</td>\n",
       "    </tr>\n",
       "    <tr>\n",
       "      <th>(12, 18]</th>\n",
       "      <td>73.95</td>\n",
       "    </tr>\n",
       "    <tr>\n",
       "      <th>(18, 35]</th>\n",
       "      <td>76.17</td>\n",
       "    </tr>\n",
       "    <tr>\n",
       "      <th>(35, 52]</th>\n",
       "      <td>80.04</td>\n",
       "    </tr>\n",
       "    <tr>\n",
       "      <th>(52, 69]</th>\n",
       "      <td>83.80</td>\n",
       "    </tr>\n",
       "    <tr>\n",
       "      <th>(69, 115]</th>\n",
       "      <td>84.38</td>\n",
       "    </tr>\n",
       "  </tbody>\n",
       "</table>\n",
       "</div>"
      ],
      "text/plain": [
       "            Show\n",
       "age_class       \n",
       "(0, 12]    79.04\n",
       "(12, 18]   73.95\n",
       "(18, 35]   76.17\n",
       "(35, 52]   80.04\n",
       "(52, 69]   83.80\n",
       "(69, 115]  84.38"
      ]
     },
     "execution_count": 21,
     "metadata": {},
     "output_type": "execute_result"
    }
   ],
   "source": [
    "pivot_show_gender=pd.pivot_table(data = df, index = [\"age_class\"], values = \"Show\")\n",
    "round(pivot_show_gender * 100, 2)"
   ]
  },
  {
   "cell_type": "markdown",
   "id": "5fff1784",
   "metadata": {},
   "source": [
    "We note that the age group between 69 and 115 has a high percentage of attendance times for their appointments. And the age group between 12 and 18 has a lower percentage of times to come to their appointments.The difference between them is 11%."
   ]
  },
  {
   "cell_type": "code",
   "execution_count": 22,
   "id": "76f51eb1",
   "metadata": {},
   "outputs": [
    {
     "data": {
      "image/png": "[encoded data removed]",
      "text/plain": [
       "<Figure size 432x288 with 1 Axes>"
      ]
     },
     "metadata": {
      "needs_background": "light"
     },
     "output_type": "display_data"
    }
   ],
   "source": [
    "#visualization for Number of Showing Up Times per age group\n",
    "age_class= sns.countplot(x='age_class', hue='Show', data=df)\n",
    "plt.title('Number of Showing Up Times per Age classification',fontsize=14)\n",
    "plt.xlabel('Age classification',fontsize=13)\n",
    "plt.ylabel('Number of Showing Up',fontsize=13)\n",
    "plt.show()"
   ]
  },
  {
   "cell_type": "markdown",
   "id": "3f6d0de9",
   "metadata": {},
   "source": [
    "We note that the age group between 18 to 69 has a high number of attendance times for their appointments."
   ]
  },
  {
   "cell_type": "markdown",
   "id": "a7ac69ba",
   "metadata": {},
   "source": [
    "### Q3-What is the total number of each gender? And what is the percentage of the number?"
   ]
  },
  {
   "cell_type": "code",
   "execution_count": 23,
   "id": "7ea92285",
   "metadata": {},
   "outputs": [
    {
     "name": "stdout",
     "output_type": "stream",
     "text": [
      "71839 , 38687\n",
      "65.0 , 35.0\n"
     ]
    }
   ],
   "source": [
    "#The percentage of females and males\n",
    "num_male=df.query('Gender==\"M\"')['Gender'].count()\n",
    "num_female=df.query('Gender==\"F\"')['Gender'].count()\n",
    "rate_female=round((num_female/df.shape[0]) * 100,2)\n",
    "rate_male=round((num_male/df.shape[0])* 100,2)\n",
    "print(num_female,\",\",num_male)\n",
    "print(rate_female,\",\",rate_male)"
   ]
  },
  {
   "cell_type": "markdown",
   "id": "0edf55b7",
   "metadata": {},
   "source": [
    "Gender | count | percentage\n",
    "-------|-------|-----------\n",
    "female|  71839| 65.0\n",
    "male|  38687 | 35.0\n",
    "\n",
    "\n",
    "\n",
    "We note the percentage of females is higher than males by 30%"
   ]
  },
  {
   "cell_type": "markdown",
   "id": "a7a5c9a4",
   "metadata": {},
   "source": [
    "### Q4-Does Gender affect show up?"
   ]
  },
  {
   "cell_type": "code",
   "execution_count": 24,
   "id": "051b786c",
   "metadata": {},
   "outputs": [
    {
     "data": {
      "image/png": "[encoded data removed]",
      "text/plain": [
       "<Figure size 432x288 with 1 Axes>"
      ]
     },
     "metadata": {
      "needs_background": "light"
     },
     "output_type": "display_data"
    }
   ],
   "source": [
    "#visualization Number of Showing Up Times per Gender\n",
    "bars_gender= sns.countplot(x='Gender', hue='Show', data=df)\n",
    "plt.title('Number of Showing Up Times per Gender',fontsize=14)\n",
    "plt.xlabel('Gender',fontsize=13)\n",
    "plt.ylabel('Number of Showing Up',fontsize=13)\n",
    "plt.show()"
   ]
  },
  {
   "cell_type": "markdown",
   "id": "e49a1296",
   "metadata": {},
   "source": [
    "The number of females show up is greater than the males. May be because we have more data of females."
   ]
  },
  {
   "cell_type": "code",
   "execution_count": 25,
   "id": "bcfca17f",
   "metadata": {},
   "outputs": [
    {
     "data": {
      "text/html": [
       "<div>\n",
       "<style scoped>\n",
       "    .dataframe tbody tr th:only-of-type {\n",
       "        vertical-align: middle;\n",
       "    }\n",
       "\n",
       "    .dataframe tbody tr th {\n",
       "        vertical-align: top;\n",
       "    }\n",
       "\n",
       "    .dataframe thead th {\n",
       "        text-align: right;\n",
       "    }\n",
       "</style>\n",
       "<table border=\"1\" class=\"dataframe\">\n",
       "  <thead>\n",
       "    <tr style=\"text-align: right;\">\n",
       "      <th></th>\n",
       "      <th>Show</th>\n",
       "    </tr>\n",
       "    <tr>\n",
       "      <th>Gender</th>\n",
       "      <th></th>\n",
       "    </tr>\n",
       "  </thead>\n",
       "  <tbody>\n",
       "    <tr>\n",
       "      <th>F</th>\n",
       "      <td>79.69</td>\n",
       "    </tr>\n",
       "    <tr>\n",
       "      <th>M</th>\n",
       "      <td>80.03</td>\n",
       "    </tr>\n",
       "  </tbody>\n",
       "</table>\n",
       "</div>"
      ],
      "text/plain": [
       "         Show\n",
       "Gender       \n",
       "F       79.69\n",
       "M       80.03"
      ]
     },
     "execution_count": 25,
     "metadata": {},
     "output_type": "execute_result"
    }
   ],
   "source": [
    "pivot_show_gender=pd.pivot_table(data = df, index = [\"Gender\"], values = \"Show\")\n",
    "round(pivot_show_gender * 100, 2)"
   ]
  },
  {
   "cell_type": "markdown",
   "id": "0fd62a00",
   "metadata": {},
   "source": [
    "As we can see here, almost both genders are commited with the same ratio for their appointments. Which is interesting."
   ]
  },
  {
   "cell_type": "markdown",
   "id": "2fc6ab02",
   "metadata": {},
   "source": [
    "### Q5-What is the total number for patients who have received SMS and patients who not received SMS?"
   ]
  },
  {
   "cell_type": "code",
   "execution_count": 26,
   "id": "7568eb49",
   "metadata": {},
   "outputs": [
    {
     "name": "stdout",
     "output_type": "stream",
     "text": [
      "67.9 , 32.1\n",
      "75044 , 35482\n"
     ]
    }
   ],
   "source": [
    "#Percentage of patients who received SMS and patients not receive SMS\n",
    "not_sent=df.query('SMS_sent==0').SMS_sent.count()\n",
    "sent=df.query('SMS_sent>=1').SMS_sent.count()\n",
    "rate_not_sent=round((not_sent/df.shape[0]) * 100,2)\n",
    "rate_sent=round((sent/df.shape[0])* 100,2)\n",
    "print(rate_not_sent,\",\",rate_sent)\n",
    "print(not_sent,\",\",sent)"
   ]
  },
  {
   "cell_type": "markdown",
   "id": "41caf59d",
   "metadata": {},
   "source": [
    " SMS | count | percentage\n",
    "-------|-------|-----------\n",
    "received SMS|  35482| 32.1\n",
    "didn't receive SMS|  75044 | 67.9\n",
    "\n",
    "\n",
    "We note the percentage of not receive SMS is higher than receive SMS by 35.8%\n"
   ]
  },
  {
   "cell_type": "markdown",
   "id": "32c011cf",
   "metadata": {},
   "source": [
    "### Q6-what is the percentage of the patients who have received SMS and have showed up?"
   ]
  },
  {
   "cell_type": "code",
   "execution_count": 27,
   "id": "888a37ca",
   "metadata": {},
   "outputs": [
    {
     "data": {
      "text/html": [
       "<div>\n",
       "<style scoped>\n",
       "    .dataframe tbody tr th:only-of-type {\n",
       "        vertical-align: middle;\n",
       "    }\n",
       "\n",
       "    .dataframe tbody tr th {\n",
       "        vertical-align: top;\n",
       "    }\n",
       "\n",
       "    .dataframe thead th {\n",
       "        text-align: right;\n",
       "    }\n",
       "</style>\n",
       "<table border=\"1\" class=\"dataframe\">\n",
       "  <thead>\n",
       "    <tr style=\"text-align: right;\">\n",
       "      <th></th>\n",
       "      <th>Show</th>\n",
       "    </tr>\n",
       "    <tr>\n",
       "      <th>SMS_sent</th>\n",
       "      <th></th>\n",
       "    </tr>\n",
       "  </thead>\n",
       "  <tbody>\n",
       "    <tr>\n",
       "      <th>0</th>\n",
       "      <td>83.30</td>\n",
       "    </tr>\n",
       "    <tr>\n",
       "      <th>1</th>\n",
       "      <td>72.43</td>\n",
       "    </tr>\n",
       "  </tbody>\n",
       "</table>\n",
       "</div>"
      ],
      "text/plain": [
       "           Show\n",
       "SMS_sent       \n",
       "0         83.30\n",
       "1         72.43"
      ]
     },
     "execution_count": 27,
     "metadata": {},
     "output_type": "execute_result"
    }
   ],
   "source": [
    "pivot_show_sms=pd.pivot_table(data = df, index = [\"SMS_sent\"], values = \"Show\")\n",
    "round(pivot_show_sms * 100, 2)"
   ]
  },
  {
   "cell_type": "markdown",
   "id": "741f3861",
   "metadata": {},
   "source": [
    "As we can see here,Patients who received SMS and attended less than those who did not receive SMS and attended."
   ]
  },
  {
   "cell_type": "markdown",
   "id": "dad636a3",
   "metadata": {},
   "source": [
    "### Q7- How many patients have a scholarship?"
   ]
  },
  {
   "cell_type": "code",
   "execution_count": 28,
   "id": "199739d0",
   "metadata": {},
   "outputs": [
    {
     "data": {
      "text/plain": [
       "(99665, 10861)"
      ]
     },
     "execution_count": 28,
     "metadata": {},
     "output_type": "execute_result"
    }
   ],
   "source": [
    "nothave_Schola=df.query('Scholarship==0').Scholarship.count()\n",
    "have_Schola=df.query('Scholarship==1').Scholarship.count()\n",
    "nothave_Schola,have_Schola"
   ]
  },
  {
   "cell_type": "markdown",
   "id": "73594d21",
   "metadata": {},
   "source": [
    "We note that the number of patients who received a scholarship is 10861 patients"
   ]
  },
  {
   "cell_type": "markdown",
   "id": "0b6881bb",
   "metadata": {},
   "source": [
    "### Q8-Are patients on scholarship more committed to their appointments?"
   ]
  },
  {
   "cell_type": "code",
   "execution_count": 29,
   "id": "85859462",
   "metadata": {},
   "outputs": [
    {
     "data": {
      "image/png": "[encoded data removed]",
      "text/plain": [
       "<Figure size 432x288 with 1 Axes>"
      ]
     },
     "metadata": {
      "needs_background": "light"
     },
     "output_type": "display_data"
    }
   ],
   "source": [
    "sns.countplot(x='Scholarship', hue='Show', data=df)\n",
    "plt.title('Number of Patient with Scholarship VS show up',fontsize=13)\n",
    "plt.ylabel('Count',fontsize=13)\n",
    "plt.show()"
   ]
  },
  {
   "cell_type": "markdown",
   "id": "1fbec146",
   "metadata": {},
   "source": [
    "The number of patients without a scholarship attending is higher."
   ]
  },
  {
   "cell_type": "code",
   "execution_count": 30,
   "id": "a7d8f988",
   "metadata": {},
   "outputs": [
    {
     "data": {
      "text/html": [
       "<div>\n",
       "<style scoped>\n",
       "    .dataframe tbody tr th:only-of-type {\n",
       "        vertical-align: middle;\n",
       "    }\n",
       "\n",
       "    .dataframe tbody tr th {\n",
       "        vertical-align: top;\n",
       "    }\n",
       "\n",
       "    .dataframe thead th {\n",
       "        text-align: right;\n",
       "    }\n",
       "</style>\n",
       "<table border=\"1\" class=\"dataframe\">\n",
       "  <thead>\n",
       "    <tr style=\"text-align: right;\">\n",
       "      <th></th>\n",
       "      <th>Show</th>\n",
       "    </tr>\n",
       "    <tr>\n",
       "      <th>Scholarship</th>\n",
       "      <th></th>\n",
       "    </tr>\n",
       "  </thead>\n",
       "  <tbody>\n",
       "    <tr>\n",
       "      <th>0</th>\n",
       "      <td>80.19</td>\n",
       "    </tr>\n",
       "    <tr>\n",
       "      <th>1</th>\n",
       "      <td>76.26</td>\n",
       "    </tr>\n",
       "  </tbody>\n",
       "</table>\n",
       "</div>"
      ],
      "text/plain": [
       "              Show\n",
       "Scholarship       \n",
       "0            80.19\n",
       "1            76.26"
      ]
     },
     "execution_count": 30,
     "metadata": {},
     "output_type": "execute_result"
    }
   ],
   "source": [
    "pivot_scholarship_sms=pd.pivot_table(data = df, index = [\"Scholarship\"], values = \"Show\")\n",
    "round(pivot_scholarship_sms * 100, 2)"
   ]
  },
  {
   "cell_type": "markdown",
   "id": "ea453aa7",
   "metadata": {},
   "source": [
    "We note the patients who have a scholarship less show up "
   ]
  },
  {
   "cell_type": "markdown",
   "id": "04185aab",
   "metadata": {},
   "source": [
    "### Q9- Are patients who have a scholarship and receive SMS more punctual?"
   ]
  },
  {
   "cell_type": "code",
   "execution_count": 31,
   "id": "a28762d4",
   "metadata": {},
   "outputs": [
    {
     "data": {
      "text/html": [
       "<div>\n",
       "<style scoped>\n",
       "    .dataframe tbody tr th:only-of-type {\n",
       "        vertical-align: middle;\n",
       "    }\n",
       "\n",
       "    .dataframe tbody tr th {\n",
       "        vertical-align: top;\n",
       "    }\n",
       "\n",
       "    .dataframe thead th {\n",
       "        text-align: right;\n",
       "    }\n",
       "</style>\n",
       "<table border=\"1\" class=\"dataframe\">\n",
       "  <thead>\n",
       "    <tr style=\"text-align: right;\">\n",
       "      <th></th>\n",
       "      <th></th>\n",
       "      <th>Show</th>\n",
       "    </tr>\n",
       "    <tr>\n",
       "      <th>Scholarship</th>\n",
       "      <th>SMS_sent</th>\n",
       "      <th></th>\n",
       "    </tr>\n",
       "  </thead>\n",
       "  <tbody>\n",
       "    <tr>\n",
       "      <th rowspan=\"2\" valign=\"top\">0</th>\n",
       "      <th>0</th>\n",
       "      <td>83.54</td>\n",
       "    </tr>\n",
       "    <tr>\n",
       "      <th>1</th>\n",
       "      <td>73.11</td>\n",
       "    </tr>\n",
       "    <tr>\n",
       "      <th rowspan=\"2\" valign=\"top\">1</th>\n",
       "      <th>0</th>\n",
       "      <td>81.05</td>\n",
       "    </tr>\n",
       "    <tr>\n",
       "      <th>1</th>\n",
       "      <td>66.22</td>\n",
       "    </tr>\n",
       "  </tbody>\n",
       "</table>\n",
       "</div>"
      ],
      "text/plain": [
       "                       Show\n",
       "Scholarship SMS_sent       \n",
       "0           0         83.54\n",
       "            1         73.11\n",
       "1           0         81.05\n",
       "            1         66.22"
      ]
     },
     "execution_count": 31,
     "metadata": {},
     "output_type": "execute_result"
    }
   ],
   "source": [
    "pivot_scholarship_sms=pd.pivot_table(data = df, index = [\"Scholarship\",\"SMS_sent\"], values = \"Show\")\n",
    "round(pivot_scholarship_sms * 100, 2)"
   ]
  },
  {
   "cell_type": "markdown",
   "id": "61c1da6c",
   "metadata": {},
   "source": [
    "As we can see here,Patients who have a scholarship and received SMS less attended.So SMS does not affect their attendance."
   ]
  },
  {
   "cell_type": "markdown",
   "id": "5c4ed6ea",
   "metadata": {},
   "source": [
    "### Q10- Does having physical Diseases such as Hipertension, Diabetes effect on showing up for appointment?"
   ]
  },
  {
   "cell_type": "code",
   "execution_count": 32,
   "id": "dc833b35",
   "metadata": {},
   "outputs": [
    {
     "data": {
      "text/plain": [
       "(21801, 7943)"
      ]
     },
     "execution_count": 32,
     "metadata": {},
     "output_type": "execute_result"
    }
   ],
   "source": [
    "diabetes=df.query('Diabetes==1').Diabetes.count()\n",
    "hipertension=df.query('Hipertension==1').Hipertension.count()\n",
    "hipertension,diabetes"
   ]
  },
  {
   "cell_type": "markdown",
   "id": "53b2fd1b",
   "metadata": {},
   "source": [
    "Diseases | count \n",
    "-------|-------\n",
    "Diabetes|  7943\n",
    "Hipertension|  21801 \n",
    "\n",
    "\n",
    "\n",
    "\n",
    "As we can see here,number of Patients with Diabetes is(7943) and Hipertension is (21801) Patients."
   ]
  },
  {
   "cell_type": "code",
   "execution_count": 33,
   "id": "fb01f787",
   "metadata": {},
   "outputs": [
    {
     "data": {
      "text/html": [
       "<div>\n",
       "<style scoped>\n",
       "    .dataframe tbody tr th:only-of-type {\n",
       "        vertical-align: middle;\n",
       "    }\n",
       "\n",
       "    .dataframe tbody tr th {\n",
       "        vertical-align: top;\n",
       "    }\n",
       "\n",
       "    .dataframe thead th {\n",
       "        text-align: right;\n",
       "    }\n",
       "</style>\n",
       "<table border=\"1\" class=\"dataframe\">\n",
       "  <thead>\n",
       "    <tr style=\"text-align: right;\">\n",
       "      <th></th>\n",
       "      <th></th>\n",
       "      <th>Show</th>\n",
       "    </tr>\n",
       "    <tr>\n",
       "      <th>Diabetes</th>\n",
       "      <th>Hipertension</th>\n",
       "      <th></th>\n",
       "    </tr>\n",
       "  </thead>\n",
       "  <tbody>\n",
       "    <tr>\n",
       "      <th rowspan=\"2\" valign=\"top\">0</th>\n",
       "      <th>0</th>\n",
       "      <td>79.08</td>\n",
       "    </tr>\n",
       "    <tr>\n",
       "      <th>1</th>\n",
       "      <td>82.82</td>\n",
       "    </tr>\n",
       "    <tr>\n",
       "      <th rowspan=\"2\" valign=\"top\">1</th>\n",
       "      <th>0</th>\n",
       "      <td>80.16</td>\n",
       "    </tr>\n",
       "    <tr>\n",
       "      <th>1</th>\n",
       "      <td>82.41</td>\n",
       "    </tr>\n",
       "  </tbody>\n",
       "</table>\n",
       "</div>"
      ],
      "text/plain": [
       "                        Show\n",
       "Diabetes Hipertension       \n",
       "0        0             79.08\n",
       "         1             82.82\n",
       "1        0             80.16\n",
       "         1             82.41"
      ]
     },
     "execution_count": 33,
     "metadata": {},
     "output_type": "execute_result"
    }
   ],
   "source": [
    "pivot_diabetes_hipertension=pd.pivot_table(data = df, index = ['Diabetes','Hipertension'], values = \"Show\")\n",
    "round(pivot_diabetes_hipertension * 100, 2)"
   ]
  },
  {
   "cell_type": "markdown",
   "id": "c0a7f555",
   "metadata": {},
   "source": [
    "- We note that Hipertension patients show up more.\n",
    "- We also note that patients who have diabetes and high Hipertension show up more than patients who only have diabetes"
   ]
  },
  {
   "cell_type": "markdown",
   "id": "c5401d09",
   "metadata": {},
   "source": [
    "<a id='conclusions'></a>\n",
    "## Conclusions"
   ]
  },
  {
   "cell_type": "markdown",
   "id": "d1125f88",
   "metadata": {},
   "source": [
    "- 79.8% of patients attended their appointments versus 20.2% who did not.\n",
    "- The largest number of patients is in the age group between 35 and 52 years, and the least number of patients is in the age group between 12 to 18 years.\n",
    "- The age group between 69 and 115 has a high percentage of attendance times for their appointments. And the age group between 12 and 18 has a lower percentage of times to come to their appointments.The difference between them is 11%.\n",
    "- The percentage of females is higher than males by 30%. and almost both genders are commited with the same ratio for their appointments.\n",
    "- The percentage of patients didn't receive SMS is higher than receive SMS by 35.8%. and Patients who received SMS and attended less than those who did not receive SMS and attended.\n",
    "- The patients who have a scholarship less show up, and Patients who have a scholarship and received SMS less attended.\n",
    "- The number of Patients with Diabetes is (7943) and Hipertension is (21801)Patients.\n",
    "- We note that Hipertension patients show up more.\n",
    "- We also note that patients who have diabetes and high Hipertension show up more than patients who only have diabetes."
   ]
  },
  {
   "cell_type": "markdown",
   "id": "ca3a1b43",
   "metadata": {},
   "source": [
    "## Limitations"
   ]
  },
  {
   "cell_type": "markdown",
   "id": "a45ba93a",
   "metadata": {},
   "source": [
    "- The data cover a period of only 3 months, which is a very small sample with respect to the entire year. This missing specific information can lead to an imbalance in the results.\n",
    "- It will be very useful, if there is a column indicating the average income and level of education.\n",
    "- It is possible that not all reasons for patients not showing up in this data set, and questionnaire data for patients who missed their appointment can be useful in analyzing their absence.\n"
   ]
  },
  {
   "cell_type": "markdown",
   "id": "71d42324",
   "metadata": {},
   "source": [
    "## Sources"
   ]
  },
  {
   "cell_type": "markdown",
   "id": "721343ef",
   "metadata": {},
   "source": [
    "- https://seaborn.pydata.org/generated/seaborn.countplot.html - seaborn website\n",
    "- https://pandas.pydata.org/pandas-docs/stable/reference/api/pandas.cut.html - pandas website\n",
    "- https://toptipforu.com/how-to-draw-histogram-bar-plot-matplotlib/ - top tip blog\n",
    "- https://guides.github.com/pdfs/markdown-cheatsheet-online.pdf - MARKDOWN SYNTAX"
   ]
  }
 ],
 "metadata": {
  "kernelspec": {
   "display_name": "Python 3",
   "language": "python",
   "name": "python3"
  },
  "language_info": {
   "codemirror_mode": {
    "name": "ipython",
    "version": 3
   },
   "file_extension": ".py",
   "mimetype": "text/x-python",
   "name": "python",
   "nbconvert_exporter": "python",
   "pygments_lexer": "ipython3",
   "version": "3.8.8"
  }
 },
 "nbformat": 4,
 "nbformat_minor": 5
}
